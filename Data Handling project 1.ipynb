{
 "cells": [
  {
   "cell_type": "code",
   "execution_count": 134,
   "id": "0443e00f",
   "metadata": {},
   "outputs": [],
   "source": [
    "import numpy as np\n",
    "import pandas as pd \n",
    "import matplotlib.pyplot as plt"
   ]
  },
  {
   "cell_type": "code",
   "execution_count": 135,
   "id": "d8d2a683",
   "metadata": {},
   "outputs": [],
   "source": [
    "data = pd.read_csv(\"C:\\\\Users\\\\Geetanshu Dev\\\\Documents\\\\csv\\\\netflix1.csv\")"
   ]
  },
  {
   "cell_type": "code",
   "execution_count": 136,
   "id": "7f2d239c",
   "metadata": {},
   "outputs": [
    {
     "data": {
      "text/html": [
       "<div>\n",
       "<style scoped>\n",
       "    .dataframe tbody tr th:only-of-type {\n",
       "        vertical-align: middle;\n",
       "    }\n",
       "\n",
       "    .dataframe tbody tr th {\n",
       "        vertical-align: top;\n",
       "    }\n",
       "\n",
       "    .dataframe thead th {\n",
       "        text-align: right;\n",
       "    }\n",
       "</style>\n",
       "<table border=\"1\" class=\"dataframe\">\n",
       "  <thead>\n",
       "    <tr style=\"text-align: right;\">\n",
       "      <th></th>\n",
       "      <th>show_id</th>\n",
       "      <th>type</th>\n",
       "      <th>title</th>\n",
       "      <th>director</th>\n",
       "      <th>country</th>\n",
       "      <th>date_added</th>\n",
       "      <th>release_year</th>\n",
       "      <th>rating</th>\n",
       "      <th>duration</th>\n",
       "      <th>listed_in</th>\n",
       "    </tr>\n",
       "  </thead>\n",
       "  <tbody>\n",
       "    <tr>\n",
       "      <th>0</th>\n",
       "      <td>s1</td>\n",
       "      <td>Movie</td>\n",
       "      <td>Dick Johnson Is Dead</td>\n",
       "      <td>Kirsten Johnson</td>\n",
       "      <td>United States</td>\n",
       "      <td>9/25/2021</td>\n",
       "      <td>2020</td>\n",
       "      <td>PG-13</td>\n",
       "      <td>90 min</td>\n",
       "      <td>Documentaries</td>\n",
       "    </tr>\n",
       "    <tr>\n",
       "      <th>1</th>\n",
       "      <td>s3</td>\n",
       "      <td>TV Show</td>\n",
       "      <td>Ganglands</td>\n",
       "      <td>Julien Leclercq</td>\n",
       "      <td>France</td>\n",
       "      <td>9/24/2021</td>\n",
       "      <td>2021</td>\n",
       "      <td>TV-MA</td>\n",
       "      <td>1 Season</td>\n",
       "      <td>Crime TV Shows, International TV Shows, TV Act...</td>\n",
       "    </tr>\n",
       "    <tr>\n",
       "      <th>2</th>\n",
       "      <td>s6</td>\n",
       "      <td>TV Show</td>\n",
       "      <td>Midnight Mass</td>\n",
       "      <td>Mike Flanagan</td>\n",
       "      <td>United States</td>\n",
       "      <td>9/24/2021</td>\n",
       "      <td>2021</td>\n",
       "      <td>TV-MA</td>\n",
       "      <td>1 Season</td>\n",
       "      <td>TV Dramas, TV Horror, TV Mysteries</td>\n",
       "    </tr>\n",
       "    <tr>\n",
       "      <th>3</th>\n",
       "      <td>s14</td>\n",
       "      <td>Movie</td>\n",
       "      <td>Confessions of an Invisible Girl</td>\n",
       "      <td>Bruno Garotti</td>\n",
       "      <td>Brazil</td>\n",
       "      <td>9/22/2021</td>\n",
       "      <td>2021</td>\n",
       "      <td>TV-PG</td>\n",
       "      <td>91 min</td>\n",
       "      <td>Children &amp; Family Movies, Comedies</td>\n",
       "    </tr>\n",
       "    <tr>\n",
       "      <th>4</th>\n",
       "      <td>s8</td>\n",
       "      <td>Movie</td>\n",
       "      <td>Sankofa</td>\n",
       "      <td>Haile Gerima</td>\n",
       "      <td>United States</td>\n",
       "      <td>9/24/2021</td>\n",
       "      <td>1993</td>\n",
       "      <td>TV-MA</td>\n",
       "      <td>125 min</td>\n",
       "      <td>Dramas, Independent Movies, International Movies</td>\n",
       "    </tr>\n",
       "  </tbody>\n",
       "</table>\n",
       "</div>"
      ],
      "text/plain": [
       "  show_id     type                             title         director  \\\n",
       "0      s1    Movie              Dick Johnson Is Dead  Kirsten Johnson   \n",
       "1      s3  TV Show                         Ganglands  Julien Leclercq   \n",
       "2      s6  TV Show                     Midnight Mass    Mike Flanagan   \n",
       "3     s14    Movie  Confessions of an Invisible Girl    Bruno Garotti   \n",
       "4      s8    Movie                           Sankofa     Haile Gerima   \n",
       "\n",
       "         country date_added  release_year rating  duration  \\\n",
       "0  United States  9/25/2021          2020  PG-13    90 min   \n",
       "1         France  9/24/2021          2021  TV-MA  1 Season   \n",
       "2  United States  9/24/2021          2021  TV-MA  1 Season   \n",
       "3         Brazil  9/22/2021          2021  TV-PG    91 min   \n",
       "4  United States  9/24/2021          1993  TV-MA   125 min   \n",
       "\n",
       "                                           listed_in  \n",
       "0                                      Documentaries  \n",
       "1  Crime TV Shows, International TV Shows, TV Act...  \n",
       "2                 TV Dramas, TV Horror, TV Mysteries  \n",
       "3                 Children & Family Movies, Comedies  \n",
       "4   Dramas, Independent Movies, International Movies  "
      ]
     },
     "execution_count": 136,
     "metadata": {},
     "output_type": "execute_result"
    }
   ],
   "source": [
    "data.head()"
   ]
  },
  {
   "cell_type": "code",
   "execution_count": 137,
   "id": "05caec1c",
   "metadata": {},
   "outputs": [
    {
     "data": {
      "text/plain": [
       "Index(['show_id', 'type', 'title', 'director', 'country', 'date_added',\n",
       "       'release_year', 'rating', 'duration', 'listed_in'],\n",
       "      dtype='object')"
      ]
     },
     "execution_count": 137,
     "metadata": {},
     "output_type": "execute_result"
    }
   ],
   "source": [
    "data.columns"
   ]
  },
  {
   "cell_type": "code",
   "execution_count": 138,
   "id": "4ba36383",
   "metadata": {},
   "outputs": [
    {
     "data": {
      "text/plain": [
       "(8790, 10)"
      ]
     },
     "execution_count": 138,
     "metadata": {},
     "output_type": "execute_result"
    }
   ],
   "source": [
    "data.shape"
   ]
  },
  {
   "cell_type": "code",
   "execution_count": 139,
   "id": "5410fff2",
   "metadata": {},
   "outputs": [
    {
     "data": {
      "text/plain": [
       "87900"
      ]
     },
     "execution_count": 139,
     "metadata": {},
     "output_type": "execute_result"
    }
   ],
   "source": [
    "data.size"
   ]
  },
  {
   "cell_type": "code",
   "execution_count": 140,
   "id": "9acc52fa",
   "metadata": {},
   "outputs": [
    {
     "name": "stdout",
     "output_type": "stream",
     "text": [
      "0         Movie\n",
      "1       TV Show\n",
      "2       TV Show\n",
      "3         Movie\n",
      "4         Movie\n",
      "         ...   \n",
      "8785    TV Show\n",
      "8786    TV Show\n",
      "8787    TV Show\n",
      "8788    TV Show\n",
      "8789    TV Show\n",
      "Name: type, Length: 8790, dtype: object\n"
     ]
    }
   ],
   "source": [
    "types = data.type\n",
    "print(types)"
   ]
  },
  {
   "cell_type": "code",
   "execution_count": 141,
   "id": "d8b600f7",
   "metadata": {},
   "outputs": [
    {
     "name": "stdout",
     "output_type": "stream",
     "text": [
      "type\n",
      "Movie      6126\n",
      "TV Show    2664\n",
      "Name: count, dtype: int64\n"
     ]
    }
   ],
   "source": [
    "typecol = types.value_counts()\n",
    "print(typecol)"
   ]
  },
  {
   "cell_type": "code",
   "execution_count": 142,
   "id": "51fb17b0",
   "metadata": {},
   "outputs": [
    {
     "data": {
      "image/png": "[encoded data removed]",
      "text/plain": [
       "<Figure size 432x288 with 1 Axes>"
      ]
     },
     "metadata": {},
     "output_type": "display_data"
    }
   ],
   "source": [
    "plt.bar(typecol.index,typecol)\n",
    "plt.title(\"Frequency of type of shows in netflix\",fontsize = 23)\n",
    "plt.xlabel(\"Types\",fontweight = 12)\n",
    "plt.ylabel(\"Frequency\")\n",
    "plt.show()\n"
   ]
  },
  {
   "cell_type": "raw",
   "id": "e13164b0",
   "metadata": {},
   "source": [
    "So in this dataset of Netflix there are more Movie than TV Show"
   ]
  },
  {
   "cell_type": "code",
   "execution_count": 143,
   "id": "1a0b81b8",
   "metadata": {},
   "outputs": [
    {
     "name": "stdout",
     "output_type": "stream",
     "text": [
      "0       United States\n",
      "1              France\n",
      "2       United States\n",
      "3              Brazil\n",
      "4       United States\n",
      "            ...      \n",
      "8785           Turkey\n",
      "8786    United States\n",
      "8787         Pakistan\n",
      "8788         Pakistan\n",
      "8789         Pakistan\n",
      "Name: country, Length: 8790, dtype: object\n"
     ]
    }
   ],
   "source": [
    "country = data.country\n",
    "print(country)"
   ]
  },
  {
   "cell_type": "code",
   "execution_count": 144,
   "id": "fa5fd5ae",
   "metadata": {},
   "outputs": [
    {
     "name": "stdout",
     "output_type": "stream",
     "text": [
      "['United States' 'France' 'Brazil' 'United Kingdom' 'India' 'Germany'\n",
      " 'Pakistan' 'Not Given' 'China' 'South Africa' 'Japan' 'Nigeria' 'Spain'\n",
      " 'Philippines' 'Australia' 'Argentina' 'Canada' 'Hong Kong' 'Italy'\n",
      " 'New Zealand' 'Egypt' 'Colombia' 'Mexico' 'Belgium' 'Switzerland'\n",
      " 'Taiwan' 'Bulgaria' 'Poland' 'South Korea' 'Saudi Arabia' 'Thailand'\n",
      " 'Indonesia' 'Kuwait' 'Malaysia' 'Vietnam' 'Lebanon' 'Romania' 'Syria'\n",
      " 'United Arab Emirates' 'Sweden' 'Mauritius' 'Austria' 'Turkey'\n",
      " 'Czech Republic' 'Cameroon' 'Netherlands' 'Ireland' 'Russia' 'Kenya'\n",
      " 'Chile' 'Uruguay' 'Bangladesh' 'Portugal' 'Hungary' 'Norway' 'Singapore'\n",
      " 'Iceland' 'Serbia' 'Namibia' 'Peru' 'Mozambique' 'Ghana' 'Zimbabwe'\n",
      " 'Israel' 'Finland' 'Denmark' 'Paraguay' 'Cambodia' 'Georgia'\n",
      " 'Soviet Union' 'Greece' 'West Germany' 'Iran' 'Venezuela' 'Slovenia'\n",
      " 'Guatemala' 'Jamaica' 'Somalia' 'Croatia' 'Jordan' 'Luxembourg' 'Senegal'\n",
      " 'Belarus' 'Puerto Rico' 'Cyprus' 'Ukraine']\n"
     ]
    }
   ],
   "source": [
    "uniquecountry = country.unique()\n",
    "print(uniquecountry)"
   ]
  },
  {
   "cell_type": "code",
   "execution_count": 145,
   "id": "a5e0e748",
   "metadata": {},
   "outputs": [
    {
     "name": "stdout",
     "output_type": "stream",
     "text": [
      "country\n",
      "United States     3240\n",
      "India             1057\n",
      "United Kingdom     638\n",
      "Pakistan           421\n",
      "Not Given          287\n",
      "                  ... \n",
      "Iran                 1\n",
      "West Germany         1\n",
      "Greece               1\n",
      "Zimbabwe             1\n",
      "Soviet Union         1\n",
      "Name: count, Length: 86, dtype: int64\n"
     ]
    }
   ],
   "source": [
    "countrynum = country.value_counts()\n",
    "print(countrynum)"
   ]
  },
  {
   "cell_type": "code",
   "execution_count": 146,
   "id": "329511a3",
   "metadata": {},
   "outputs": [
    {
     "name": "stdout",
     "output_type": "stream",
     "text": [
      "country\n",
      "United States     3240\n",
      "India             1057\n",
      "United Kingdom     638\n",
      "Pakistan           421\n",
      "Not Given          287\n",
      "Canada             271\n",
      "Japan              259\n",
      "South Korea        214\n",
      "France             213\n",
      "Spain              182\n",
      "Name: count, dtype: int64\n"
     ]
    }
   ],
   "source": [
    "topcountry = countrynum.head(10)\n",
    "print(topcountry)"
   ]
  },
  {
   "cell_type": "code",
   "execution_count": 147,
   "id": "bda93ce2",
   "metadata": {},
   "outputs": [
    {
     "name": "stdout",
     "output_type": "stream",
     "text": [
      "country\n",
      "Cameroon        1\n",
      "Jamaica         1\n",
      "Guatemala       1\n",
      "Slovenia        1\n",
      "Mozambique      1\n",
      "Iran            1\n",
      "West Germany    1\n",
      "Greece          1\n",
      "Zimbabwe        1\n",
      "Soviet Union    1\n",
      "Name: count, dtype: int64\n"
     ]
    }
   ],
   "source": [
    "backcountry = countrynum.tail(10)\n",
    "print(backcountry)"
   ]
  },
  {
   "cell_type": "code",
   "execution_count": 162,
   "id": "3a325cd7",
   "metadata": {},
   "outputs": [
    {
     "data": {
      "image/png": "[encoded data removed]",
      "text/plain": [
       "<Figure size 1008x360 with 2 Axes>"
      ]
     },
     "metadata": {},
     "output_type": "display_data"
    }
   ],
   "source": [
    "#plot 1\n",
    "plt.figure(figsize=(14,5))\n",
    "plt.subplot(131)\n",
    "plt.bar(topcountry.index,topcountry)\n",
    "plt.xticks(rotation = 90)\n",
    "plt.xlabel(\"Country\",fontsize = 15)\n",
    "plt.ylabel(\"Frequency\",fontsize=15)\n",
    "plt.title(\"Top 10 country watching Netflix\",fontsize = 17,fontstyle = 'italic',pad = 19)\n",
    "\n",
    "#plot 2 \n",
    "plt.subplot(133)\n",
    "plt.bar(backcountry.index,backcountry)\n",
    "plt.xticks(rotation = 90)\n",
    "plt.xlabel(\"Country\",fontsize = 16)\n",
    "plt.ylabel(\"Frequency\",fontsize = 16)\n",
    "plt.title(\"tail 10 country watch Netflix\",fontsize = 17,pad = 20,loc = 'left')\n",
    "\n",
    "\n",
    "plt.show()"
   ]
  },
  {
   "cell_type": "code",
   "execution_count": 149,
   "id": "e0b1ee6b",
   "metadata": {},
   "outputs": [
    {
     "name": "stdout",
     "output_type": "stream",
     "text": [
      "['PG-13' 'TV-MA' 'TV-PG' 'TV-14' 'TV-Y7' 'TV-Y' 'PG' 'TV-G' 'R' 'G'\n",
      " 'NC-17' 'NR' 'TV-Y7-FV' 'UR']\n"
     ]
    }
   ],
   "source": [
    "rating = data.rating\n",
    "print(rating.unique())"
   ]
  },
  {
   "cell_type": "code",
   "execution_count": 150,
   "id": "f4a7fdf3",
   "metadata": {},
   "outputs": [
    {
     "name": "stdout",
     "output_type": "stream",
     "text": [
      "rating\n",
      "TV-MA       3205\n",
      "TV-14       2157\n",
      "TV-PG        861\n",
      "R            799\n",
      "PG-13        490\n",
      "TV-Y7        333\n",
      "TV-Y         306\n",
      "PG           287\n",
      "TV-G         220\n",
      "NR            79\n",
      "G             41\n",
      "TV-Y7-FV       6\n",
      "NC-17          3\n",
      "UR             3\n",
      "Name: count, dtype: int64\n"
     ]
    }
   ],
   "source": [
    "ratings = rating.value_counts()\n",
    "print(ratings)"
   ]
  },
  {
   "cell_type": "code",
   "execution_count": 151,
   "id": "13e3b6e0",
   "metadata": {},
   "outputs": [
    {
     "name": "stdout",
     "output_type": "stream",
     "text": [
      "Index(['TV-MA', 'TV-14', 'TV-PG', 'R', 'PG-13', 'TV-Y7', 'TV-Y', 'PG', 'TV-G',\n",
      "       'NR', 'G', 'TV-Y7-FV', 'NC-17', 'UR'],\n",
      "      dtype='object', name='rating')\n"
     ]
    }
   ],
   "source": [
    "print(ratings.index)"
   ]
  },
  {
   "cell_type": "code",
   "execution_count": 152,
   "id": "f7a1f3df",
   "metadata": {},
   "outputs": [
    {
     "data": {
      "image/png": "[encoded data removed]",
      "text/plain": [
       "<Figure size 648x504 with 1 Axes>"
      ]
     },
     "metadata": {},
     "output_type": "display_data"
    }
   ],
   "source": [
    "plt.figure(figsize=(9,7))\n",
    "plt.style.use('ggplot')\n",
    "plt.bar(ratings.index,ratings)\n",
    "plt.xlabel(\"Rating\",fontsize = 18)\n",
    "plt.ylabel(\"Frequency\",fontsize = 15)\n",
    "plt.title(\"Frequency of rating in Netflix Dataset\",fontweight = 20,fontstyle = \"oblique\",fontsize = 20,color = 'b')\n",
    "plt.xticks(rotation = 90)\n",
    "plt.grid(True)\n",
    "plt.show()"
   ]
  },
  {
   "cell_type": "raw",
   "id": "e65147bf",
   "metadata": {},
   "source": [
    "Now I have to find movie that are R rated for this i have using groupby() functions in which it split group on the basis of rating columns then we group by rating that is equal to 'R'"
   ]
  },
  {
   "cell_type": "code",
   "execution_count": 163,
   "id": "44ed1439",
   "metadata": {},
   "outputs": [
    {
     "data": {
      "text/html": [
       "<div>\n",
       "<style scoped>\n",
       "    .dataframe tbody tr th:only-of-type {\n",
       "        vertical-align: middle;\n",
       "    }\n",
       "\n",
       "    .dataframe tbody tr th {\n",
       "        vertical-align: top;\n",
       "    }\n",
       "\n",
       "    .dataframe thead th {\n",
       "        text-align: right;\n",
       "    }\n",
       "</style>\n",
       "<table border=\"1\" class=\"dataframe\">\n",
       "  <thead>\n",
       "    <tr style=\"text-align: right;\">\n",
       "      <th></th>\n",
       "      <th>show_id</th>\n",
       "      <th>type</th>\n",
       "      <th>title</th>\n",
       "      <th>director</th>\n",
       "      <th>country</th>\n",
       "      <th>date_added</th>\n",
       "      <th>release_year</th>\n",
       "      <th>rating</th>\n",
       "      <th>duration</th>\n",
       "      <th>listed_in</th>\n",
       "    </tr>\n",
       "  </thead>\n",
       "  <tbody>\n",
       "    <tr>\n",
       "      <th>64</th>\n",
       "      <td>s47</td>\n",
       "      <td>Movie</td>\n",
       "      <td>Safe House</td>\n",
       "      <td>Daniel Espinosa</td>\n",
       "      <td>South Africa</td>\n",
       "      <td>9/16/2021</td>\n",
       "      <td>2012</td>\n",
       "      <td>R</td>\n",
       "      <td>115 min</td>\n",
       "      <td>Action &amp; Adventure</td>\n",
       "    </tr>\n",
       "    <tr>\n",
       "      <th>65</th>\n",
       "      <td>s49</td>\n",
       "      <td>Movie</td>\n",
       "      <td>Training Day</td>\n",
       "      <td>Antoine Fuqua</td>\n",
       "      <td>United States</td>\n",
       "      <td>9/16/2021</td>\n",
       "      <td>2001</td>\n",
       "      <td>R</td>\n",
       "      <td>122 min</td>\n",
       "      <td>Dramas, Thrillers</td>\n",
       "    </tr>\n",
       "    <tr>\n",
       "      <th>106</th>\n",
       "      <td>s82</td>\n",
       "      <td>Movie</td>\n",
       "      <td>Kate</td>\n",
       "      <td>Cedric Nicolas-Troyan</td>\n",
       "      <td>United States</td>\n",
       "      <td>9/10/2021</td>\n",
       "      <td>2021</td>\n",
       "      <td>R</td>\n",
       "      <td>106 min</td>\n",
       "      <td>Action &amp; Adventure</td>\n",
       "    </tr>\n",
       "    <tr>\n",
       "      <th>175</th>\n",
       "      <td>s123</td>\n",
       "      <td>Movie</td>\n",
       "      <td>In the Cut</td>\n",
       "      <td>Jane Campion</td>\n",
       "      <td>United Kingdom</td>\n",
       "      <td>9/2/2021</td>\n",
       "      <td>2003</td>\n",
       "      <td>R</td>\n",
       "      <td>118 min</td>\n",
       "      <td>Thrillers</td>\n",
       "    </tr>\n",
       "    <tr>\n",
       "      <th>182</th>\n",
       "      <td>s132</td>\n",
       "      <td>Movie</td>\n",
       "      <td>Blade Runner: The Final Cut</td>\n",
       "      <td>Ridley Scott</td>\n",
       "      <td>United States</td>\n",
       "      <td>9/1/2021</td>\n",
       "      <td>1982</td>\n",
       "      <td>R</td>\n",
       "      <td>117 min</td>\n",
       "      <td>Action &amp; Adventure, Classic Movies, Cult Movies</td>\n",
       "    </tr>\n",
       "  </tbody>\n",
       "</table>\n",
       "</div>"
      ],
      "text/plain": [
       "    show_id   type                        title               director  \\\n",
       "64      s47  Movie                   Safe House        Daniel Espinosa   \n",
       "65      s49  Movie                 Training Day          Antoine Fuqua   \n",
       "106     s82  Movie                         Kate  Cedric Nicolas-Troyan   \n",
       "175    s123  Movie                   In the Cut           Jane Campion   \n",
       "182    s132  Movie  Blade Runner: The Final Cut           Ridley Scott   \n",
       "\n",
       "            country date_added  release_year rating duration  \\\n",
       "64     South Africa  9/16/2021          2012      R  115 min   \n",
       "65    United States  9/16/2021          2001      R  122 min   \n",
       "106   United States  9/10/2021          2021      R  106 min   \n",
       "175  United Kingdom   9/2/2021          2003      R  118 min   \n",
       "182   United States   9/1/2021          1982      R  117 min   \n",
       "\n",
       "                                           listed_in  \n",
       "64                                Action & Adventure  \n",
       "65                                 Dramas, Thrillers  \n",
       "106                               Action & Adventure  \n",
       "175                                        Thrillers  \n",
       "182  Action & Adventure, Classic Movies, Cult Movies  "
      ]
     },
     "execution_count": 163,
     "metadata": {},
     "output_type": "execute_result"
    }
   ],
   "source": [
    "grouped=data.groupby('rating')\n",
    "R_rated = grouped.get_group('R')\n",
    "R_rated.head()"
   ]
  },
  {
   "cell_type": "code",
   "execution_count": 154,
   "id": "5ee0dcd7",
   "metadata": {},
   "outputs": [],
   "source": [
    "#then we have to save it into another csv file \n",
    "R_rated.to_csv('C:\\\\Users\\\\Geetanshu Dev\\\\Documents\\\\csv\\\\R_ratedmovie.csv')"
   ]
  },
  {
   "cell_type": "code",
   "execution_count": 155,
   "id": "61817d6e",
   "metadata": {},
   "outputs": [
    {
     "name": "stdout",
     "output_type": "stream",
     "text": [
      "[2020 2021 1993 2019 2013 2014 2018 1998 2010 2017 1997 1996 1975 1978\n",
      " 1983 1987 2012 2001 2002 2003 2004 2011 2008 2009 2007 2005 2006 2016\n",
      " 1994 2015 1982 1989 1990 1991 1999 1986 1984 1980 1961 2000 1995 1985\n",
      " 1925 1992 1976 1959 1988 1981 1972 1964 1954 1979 1958 1956 1963 1970\n",
      " 1973 1960 1974 1966 1971 1962 1969 1977 1967 1968 1965 1945 1946 1942\n",
      " 1955 1944 1947 1943]\n",
      "\n",
      "Release year in sorted =\n",
      "[1925 1942 1943 1944 1945 1946 1947 1954 1955 1956 1958 1959 1960 1961\n",
      " 1962 1963 1964 1965 1966 1967 1968 1969 1970 1971 1972 1973 1974 1975\n",
      " 1976 1977 1978 1979 1980 1981 1982 1983 1984 1985 1986 1987 1988 1989\n",
      " 1990 1991 1992 1993 1994 1995 1996 1997 1998 1999 2000 2001 2002 2003\n",
      " 2004 2005 2006 2007 2008 2009 2010 2011 2012 2013 2014 2015 2016 2017\n",
      " 2018 2019 2020 2021]\n"
     ]
    }
   ],
   "source": [
    "releaseyear = data.release_year\n",
    "rlt = releaseyear.unique()\n",
    "datanp = np.array(rlt)\n",
    "print(datanp)\n",
    "\n",
    "print(\"\\nRelease year in sorted =\")\n",
    "print(np.sort(datanp))"
   ]
  },
  {
   "cell_type": "code",
   "execution_count": 156,
   "id": "1cf77dd8",
   "metadata": {},
   "outputs": [
    {
     "data": {
      "text/html": [
       "<div>\n",
       "<style scoped>\n",
       "    .dataframe tbody tr th:only-of-type {\n",
       "        vertical-align: middle;\n",
       "    }\n",
       "\n",
       "    .dataframe tbody tr th {\n",
       "        vertical-align: top;\n",
       "    }\n",
       "\n",
       "    .dataframe thead th {\n",
       "        text-align: right;\n",
       "    }\n",
       "</style>\n",
       "<table border=\"1\" class=\"dataframe\">\n",
       "  <thead>\n",
       "    <tr style=\"text-align: right;\">\n",
       "      <th></th>\n",
       "      <th>show_id</th>\n",
       "      <th>type</th>\n",
       "      <th>title</th>\n",
       "      <th>director</th>\n",
       "      <th>country</th>\n",
       "      <th>date_added</th>\n",
       "      <th>release_year</th>\n",
       "      <th>rating</th>\n",
       "      <th>duration</th>\n",
       "      <th>listed_in</th>\n",
       "    </tr>\n",
       "  </thead>\n",
       "  <tbody>\n",
       "    <tr>\n",
       "      <th>421</th>\n",
       "      <td>s4251</td>\n",
       "      <td>TV Show</td>\n",
       "      <td>Pioneers: First Women Filmmakers*</td>\n",
       "      <td>Not Given</td>\n",
       "      <td>Pakistan</td>\n",
       "      <td>12/30/2018</td>\n",
       "      <td>1925</td>\n",
       "      <td>TV-14</td>\n",
       "      <td>1 Season</td>\n",
       "      <td>TV Shows</td>\n",
       "    </tr>\n",
       "  </tbody>\n",
       "</table>\n",
       "</div>"
      ],
      "text/plain": [
       "    show_id     type                              title   director   country  \\\n",
       "421   s4251  TV Show  Pioneers: First Women Filmmakers*  Not Given  Pakistan   \n",
       "\n",
       "     date_added  release_year rating  duration listed_in  \n",
       "421  12/30/2018          1925  TV-14  1 Season  TV Shows  "
      ]
     },
     "execution_count": 156,
     "metadata": {},
     "output_type": "execute_result"
    }
   ],
   "source": [
    "#now we have to search movie who released in 1925 because in dataset it is oldest movie have been added\n",
    "data.loc[data.release_year == 1925]"
   ]
  },
  {
   "cell_type": "code",
   "execution_count": 157,
   "id": "30b2bba6",
   "metadata": {},
   "outputs": [
    {
     "data": {
      "text/html": [
       "<div>\n",
       "<style scoped>\n",
       "    .dataframe tbody tr th:only-of-type {\n",
       "        vertical-align: middle;\n",
       "    }\n",
       "\n",
       "    .dataframe tbody tr th {\n",
       "        vertical-align: top;\n",
       "    }\n",
       "\n",
       "    .dataframe thead th {\n",
       "        text-align: right;\n",
       "    }\n",
       "</style>\n",
       "<table border=\"1\" class=\"dataframe\">\n",
       "  <thead>\n",
       "    <tr style=\"text-align: right;\">\n",
       "      <th></th>\n",
       "      <th>show_id</th>\n",
       "      <th>type</th>\n",
       "      <th>title</th>\n",
       "      <th>director</th>\n",
       "      <th>country</th>\n",
       "      <th>date_added</th>\n",
       "      <th>release_year</th>\n",
       "      <th>rating</th>\n",
       "      <th>duration</th>\n",
       "      <th>listed_in</th>\n",
       "    </tr>\n",
       "  </thead>\n",
       "  <tbody>\n",
       "    <tr>\n",
       "      <th>4020</th>\n",
       "      <td>s5613</td>\n",
       "      <td>Movie</td>\n",
       "      <td>Hitler - A Career</td>\n",
       "      <td>Joachim Fest, Christian Herrendoerfer</td>\n",
       "      <td>West Germany</td>\n",
       "      <td>2/10/2017</td>\n",
       "      <td>1977</td>\n",
       "      <td>TV-MA</td>\n",
       "      <td>150 min</td>\n",
       "      <td>Documentaries, International Movies</td>\n",
       "    </tr>\n",
       "    <tr>\n",
       "      <th>4314</th>\n",
       "      <td>s6031</td>\n",
       "      <td>Movie</td>\n",
       "      <td>A Bridge Too Far</td>\n",
       "      <td>Richard Attenborough</td>\n",
       "      <td>United States</td>\n",
       "      <td>7/1/2020</td>\n",
       "      <td>1977</td>\n",
       "      <td>PG</td>\n",
       "      <td>176 min</td>\n",
       "      <td>Action &amp; Adventure, Classic Movies, Dramas</td>\n",
       "    </tr>\n",
       "    <tr>\n",
       "      <th>4403</th>\n",
       "      <td>s6131</td>\n",
       "      <td>Movie</td>\n",
       "      <td>Amar Akbar Anthony</td>\n",
       "      <td>Manmohan Desai</td>\n",
       "      <td>India</td>\n",
       "      <td>12/31/2019</td>\n",
       "      <td>1977</td>\n",
       "      <td>TV-14</td>\n",
       "      <td>172 min</td>\n",
       "      <td>Action &amp; Adventure, Classic Movies, Comedies</td>\n",
       "    </tr>\n",
       "    <tr>\n",
       "      <th>4916</th>\n",
       "      <td>s6782</td>\n",
       "      <td>Movie</td>\n",
       "      <td>For the Love of Benji</td>\n",
       "      <td>Joe Camp</td>\n",
       "      <td>United States</td>\n",
       "      <td>3/6/2018</td>\n",
       "      <td>1977</td>\n",
       "      <td>G</td>\n",
       "      <td>84 min</td>\n",
       "      <td>Children &amp; Family Movies</td>\n",
       "    </tr>\n",
       "    <tr>\n",
       "      <th>5981</th>\n",
       "      <td>s8137</td>\n",
       "      <td>Movie</td>\n",
       "      <td>Swami</td>\n",
       "      <td>Basu Chatterjee</td>\n",
       "      <td>India</td>\n",
       "      <td>12/31/2019</td>\n",
       "      <td>1977</td>\n",
       "      <td>TV-PG</td>\n",
       "      <td>123 min</td>\n",
       "      <td>Dramas, Independent Movies, International Movies</td>\n",
       "    </tr>\n",
       "    <tr>\n",
       "      <th>6064</th>\n",
       "      <td>s8238</td>\n",
       "      <td>Movie</td>\n",
       "      <td>The Car</td>\n",
       "      <td>Elliot Silverstein</td>\n",
       "      <td>United States</td>\n",
       "      <td>6/1/2020</td>\n",
       "      <td>1977</td>\n",
       "      <td>PG</td>\n",
       "      <td>96 min</td>\n",
       "      <td>Cult Movies, Horror Movies</td>\n",
       "    </tr>\n",
       "    <tr>\n",
       "      <th>8409</th>\n",
       "      <td>s6550</td>\n",
       "      <td>TV Show</td>\n",
       "      <td>Dad's Army</td>\n",
       "      <td>Not Given</td>\n",
       "      <td>United Kingdom</td>\n",
       "      <td>3/31/2018</td>\n",
       "      <td>1977</td>\n",
       "      <td>TV-PG</td>\n",
       "      <td>10 Seasons</td>\n",
       "      <td>British TV Shows, Classic &amp; Cult TV, TV Comedies</td>\n",
       "    </tr>\n",
       "  </tbody>\n",
       "</table>\n",
       "</div>"
      ],
      "text/plain": [
       "     show_id     type                  title  \\\n",
       "4020   s5613    Movie      Hitler - A Career   \n",
       "4314   s6031    Movie       A Bridge Too Far   \n",
       "4403   s6131    Movie     Amar Akbar Anthony   \n",
       "4916   s6782    Movie  For the Love of Benji   \n",
       "5981   s8137    Movie                  Swami   \n",
       "6064   s8238    Movie                The Car   \n",
       "8409   s6550  TV Show             Dad's Army   \n",
       "\n",
       "                                   director         country  date_added  \\\n",
       "4020  Joachim Fest, Christian Herrendoerfer    West Germany   2/10/2017   \n",
       "4314                   Richard Attenborough   United States    7/1/2020   \n",
       "4403                         Manmohan Desai           India  12/31/2019   \n",
       "4916                               Joe Camp   United States    3/6/2018   \n",
       "5981                        Basu Chatterjee           India  12/31/2019   \n",
       "6064                     Elliot Silverstein   United States    6/1/2020   \n",
       "8409                              Not Given  United Kingdom   3/31/2018   \n",
       "\n",
       "      release_year rating    duration  \\\n",
       "4020          1977  TV-MA     150 min   \n",
       "4314          1977     PG     176 min   \n",
       "4403          1977  TV-14     172 min   \n",
       "4916          1977      G      84 min   \n",
       "5981          1977  TV-PG     123 min   \n",
       "6064          1977     PG      96 min   \n",
       "8409          1977  TV-PG  10 Seasons   \n",
       "\n",
       "                                             listed_in  \n",
       "4020               Documentaries, International Movies  \n",
       "4314        Action & Adventure, Classic Movies, Dramas  \n",
       "4403      Action & Adventure, Classic Movies, Comedies  \n",
       "4916                          Children & Family Movies  \n",
       "5981  Dramas, Independent Movies, International Movies  \n",
       "6064                        Cult Movies, Horror Movies  \n",
       "8409  British TV Shows, Classic & Cult TV, TV Comedies  "
      ]
     },
     "execution_count": 157,
     "metadata": {},
     "output_type": "execute_result"
    }
   ],
   "source": [
    "#on similar way we have find movies that was released in 1977\n",
    "data.loc[data.release_year == 1977]"
   ]
  },
  {
   "cell_type": "code",
   "execution_count": 164,
   "id": "9612faae",
   "metadata": {},
   "outputs": [
    {
     "name": "stdout",
     "output_type": "stream",
     "text": [
      "Enter year = 2021\n"
     ]
    },
    {
     "data": {
      "text/html": [
       "<div>\n",
       "<style scoped>\n",
       "    .dataframe tbody tr th:only-of-type {\n",
       "        vertical-align: middle;\n",
       "    }\n",
       "\n",
       "    .dataframe tbody tr th {\n",
       "        vertical-align: top;\n",
       "    }\n",
       "\n",
       "    .dataframe thead th {\n",
       "        text-align: right;\n",
       "    }\n",
       "</style>\n",
       "<table border=\"1\" class=\"dataframe\">\n",
       "  <thead>\n",
       "    <tr style=\"text-align: right;\">\n",
       "      <th></th>\n",
       "      <th>show_id</th>\n",
       "      <th>type</th>\n",
       "      <th>title</th>\n",
       "      <th>director</th>\n",
       "      <th>country</th>\n",
       "      <th>date_added</th>\n",
       "      <th>release_year</th>\n",
       "      <th>rating</th>\n",
       "      <th>duration</th>\n",
       "      <th>listed_in</th>\n",
       "    </tr>\n",
       "  </thead>\n",
       "  <tbody>\n",
       "    <tr>\n",
       "      <th>1</th>\n",
       "      <td>s3</td>\n",
       "      <td>TV Show</td>\n",
       "      <td>Ganglands</td>\n",
       "      <td>Julien Leclercq</td>\n",
       "      <td>France</td>\n",
       "      <td>9/24/2021</td>\n",
       "      <td>2021</td>\n",
       "      <td>TV-MA</td>\n",
       "      <td>1 Season</td>\n",
       "      <td>Crime TV Shows, International TV Shows, TV Act...</td>\n",
       "    </tr>\n",
       "    <tr>\n",
       "      <th>2</th>\n",
       "      <td>s6</td>\n",
       "      <td>TV Show</td>\n",
       "      <td>Midnight Mass</td>\n",
       "      <td>Mike Flanagan</td>\n",
       "      <td>United States</td>\n",
       "      <td>9/24/2021</td>\n",
       "      <td>2021</td>\n",
       "      <td>TV-MA</td>\n",
       "      <td>1 Season</td>\n",
       "      <td>TV Dramas, TV Horror, TV Mysteries</td>\n",
       "    </tr>\n",
       "    <tr>\n",
       "      <th>3</th>\n",
       "      <td>s14</td>\n",
       "      <td>Movie</td>\n",
       "      <td>Confessions of an Invisible Girl</td>\n",
       "      <td>Bruno Garotti</td>\n",
       "      <td>Brazil</td>\n",
       "      <td>9/22/2021</td>\n",
       "      <td>2021</td>\n",
       "      <td>TV-PG</td>\n",
       "      <td>91 min</td>\n",
       "      <td>Children &amp; Family Movies, Comedies</td>\n",
       "    </tr>\n",
       "    <tr>\n",
       "      <th>5</th>\n",
       "      <td>s9</td>\n",
       "      <td>TV Show</td>\n",
       "      <td>The Great British Baking Show</td>\n",
       "      <td>Andy Devonshire</td>\n",
       "      <td>United Kingdom</td>\n",
       "      <td>9/24/2021</td>\n",
       "      <td>2021</td>\n",
       "      <td>TV-14</td>\n",
       "      <td>9 Seasons</td>\n",
       "      <td>British TV Shows, Reality TV</td>\n",
       "    </tr>\n",
       "    <tr>\n",
       "      <th>6</th>\n",
       "      <td>s10</td>\n",
       "      <td>Movie</td>\n",
       "      <td>The Starling</td>\n",
       "      <td>Theodore Melfi</td>\n",
       "      <td>United States</td>\n",
       "      <td>9/24/2021</td>\n",
       "      <td>2021</td>\n",
       "      <td>PG-13</td>\n",
       "      <td>104 min</td>\n",
       "      <td>Comedies, Dramas</td>\n",
       "    </tr>\n",
       "    <tr>\n",
       "      <th>...</th>\n",
       "      <td>...</td>\n",
       "      <td>...</td>\n",
       "      <td>...</td>\n",
       "      <td>...</td>\n",
       "      <td>...</td>\n",
       "      <td>...</td>\n",
       "      <td>...</td>\n",
       "      <td>...</td>\n",
       "      <td>...</td>\n",
       "      <td>...</td>\n",
       "    </tr>\n",
       "    <tr>\n",
       "      <th>6920</th>\n",
       "      <td>s1461</td>\n",
       "      <td>TV Show</td>\n",
       "      <td>Monarca</td>\n",
       "      <td>Not Given</td>\n",
       "      <td>Mexico</td>\n",
       "      <td>1/1/2021</td>\n",
       "      <td>2021</td>\n",
       "      <td>TV-MA</td>\n",
       "      <td>2 Seasons</td>\n",
       "      <td>International TV Shows, Spanish-Language TV Sh...</td>\n",
       "    </tr>\n",
       "    <tr>\n",
       "      <th>6922</th>\n",
       "      <td>s1467</td>\n",
       "      <td>Movie</td>\n",
       "      <td>The Minimalists: Less Is Now</td>\n",
       "      <td>Not Given</td>\n",
       "      <td>United States</td>\n",
       "      <td>1/1/2021</td>\n",
       "      <td>2021</td>\n",
       "      <td>TV-14</td>\n",
       "      <td>54 min</td>\n",
       "      <td>Documentaries</td>\n",
       "    </tr>\n",
       "    <tr>\n",
       "      <th>6948</th>\n",
       "      <td>s1552</td>\n",
       "      <td>TV Show</td>\n",
       "      <td>Hilda</td>\n",
       "      <td>Not Given</td>\n",
       "      <td>United Kingdom</td>\n",
       "      <td>12/14/2020</td>\n",
       "      <td>2021</td>\n",
       "      <td>TV-Y7</td>\n",
       "      <td>2 Seasons</td>\n",
       "      <td>Kids' TV</td>\n",
       "    </tr>\n",
       "    <tr>\n",
       "      <th>6992</th>\n",
       "      <td>s1697</td>\n",
       "      <td>TV Show</td>\n",
       "      <td>Polly Pocket</td>\n",
       "      <td>Not Given</td>\n",
       "      <td>Canada</td>\n",
       "      <td>11/15/2020</td>\n",
       "      <td>2021</td>\n",
       "      <td>TV-Y</td>\n",
       "      <td>2 Seasons</td>\n",
       "      <td>Kids' TV</td>\n",
       "    </tr>\n",
       "    <tr>\n",
       "      <th>7355</th>\n",
       "      <td>s2921</td>\n",
       "      <td>TV Show</td>\n",
       "      <td>Love Is Blind</td>\n",
       "      <td>Not Given</td>\n",
       "      <td>United States</td>\n",
       "      <td>2/13/2020</td>\n",
       "      <td>2021</td>\n",
       "      <td>TV-MA</td>\n",
       "      <td>1 Season</td>\n",
       "      <td>Reality TV, Romantic TV Shows</td>\n",
       "    </tr>\n",
       "  </tbody>\n",
       "</table>\n",
       "<p>592 rows × 10 columns</p>\n",
       "</div>"
      ],
      "text/plain": [
       "     show_id     type                             title         director  \\\n",
       "1         s3  TV Show                         Ganglands  Julien Leclercq   \n",
       "2         s6  TV Show                     Midnight Mass    Mike Flanagan   \n",
       "3        s14    Movie  Confessions of an Invisible Girl    Bruno Garotti   \n",
       "5         s9  TV Show     The Great British Baking Show  Andy Devonshire   \n",
       "6        s10    Movie                      The Starling   Theodore Melfi   \n",
       "...      ...      ...                               ...              ...   \n",
       "6920   s1461  TV Show                           Monarca        Not Given   \n",
       "6922   s1467    Movie      The Minimalists: Less Is Now        Not Given   \n",
       "6948   s1552  TV Show                             Hilda        Not Given   \n",
       "6992   s1697  TV Show                      Polly Pocket        Not Given   \n",
       "7355   s2921  TV Show                     Love Is Blind        Not Given   \n",
       "\n",
       "             country  date_added  release_year rating   duration  \\\n",
       "1             France   9/24/2021          2021  TV-MA   1 Season   \n",
       "2      United States   9/24/2021          2021  TV-MA   1 Season   \n",
       "3             Brazil   9/22/2021          2021  TV-PG     91 min   \n",
       "5     United Kingdom   9/24/2021          2021  TV-14  9 Seasons   \n",
       "6      United States   9/24/2021          2021  PG-13    104 min   \n",
       "...              ...         ...           ...    ...        ...   \n",
       "6920          Mexico    1/1/2021          2021  TV-MA  2 Seasons   \n",
       "6922   United States    1/1/2021          2021  TV-14     54 min   \n",
       "6948  United Kingdom  12/14/2020          2021  TV-Y7  2 Seasons   \n",
       "6992          Canada  11/15/2020          2021   TV-Y  2 Seasons   \n",
       "7355   United States   2/13/2020          2021  TV-MA   1 Season   \n",
       "\n",
       "                                              listed_in  \n",
       "1     Crime TV Shows, International TV Shows, TV Act...  \n",
       "2                    TV Dramas, TV Horror, TV Mysteries  \n",
       "3                    Children & Family Movies, Comedies  \n",
       "5                          British TV Shows, Reality TV  \n",
       "6                                      Comedies, Dramas  \n",
       "...                                                 ...  \n",
       "6920  International TV Shows, Spanish-Language TV Sh...  \n",
       "6922                                      Documentaries  \n",
       "6948                                           Kids' TV  \n",
       "6992                                           Kids' TV  \n",
       "7355                      Reality TV, Romantic TV Shows  \n",
       "\n",
       "[592 rows x 10 columns]"
      ]
     },
     "execution_count": 164,
     "metadata": {},
     "output_type": "execute_result"
    }
   ],
   "source": [
    "#now we create a system in which user have enter year and it gives out the movie details\n",
    "yearss = int(input(\"Enter year = \"))\n",
    "datass = data.loc[data.release_year == yearss]\n",
    "datass"
   ]
  },
  {
   "cell_type": "code",
   "execution_count": 159,
   "id": "89e74b76",
   "metadata": {},
   "outputs": [],
   "source": [
    "relesecount = releaseyear.value_counts()\n",
    "relescountindex = relesecount.index"
   ]
  },
  {
   "cell_type": "code",
   "execution_count": 160,
   "id": "006aee58",
   "metadata": {},
   "outputs": [
    {
     "data": {
      "image/png": "[encoded data removed]",
      "text/plain": [
       "<Figure size 648x432 with 1 Axes>"
      ]
     },
     "metadata": {},
     "output_type": "display_data"
    }
   ],
   "source": [
    "plt.figure(figsize=(9,6))\n",
    "plt.bar(relescountindex,relesecount)\n",
    "plt.xlabel(\"Relaese year of movie\")\n",
    "plt.ylabel(\"Frequency\")\n",
    "plt.show()"
   ]
  },
  {
   "cell_type": "raw",
   "id": "3ad4f4b6",
   "metadata": {},
   "source": [
    "In the above graph we can see that most of the movie that added in netflix datasets are released in between of 2000 to 2020s"
   ]
  },
  {
   "cell_type": "code",
   "execution_count": null,
   "id": "5fef2484",
   "metadata": {},
   "outputs": [],
   "source": []
  }
 ],
 "metadata": {
  "kernelspec": {
   "display_name": "Python 3 (ipykernel)",
   "language": "python",
   "name": "python3"
  },
  "language_info": {
   "codemirror_mode": {
    "name": "ipython",
    "version": 3
   },
   "file_extension": ".py",
   "mimetype": "text/x-python",
   "name": "python",
   "nbconvert_exporter": "python",
   "pygments_lexer": "ipython3",
   "version": "3.9.12"
  }
 },
 "nbformat": 4,
 "nbformat_minor": 5
}
